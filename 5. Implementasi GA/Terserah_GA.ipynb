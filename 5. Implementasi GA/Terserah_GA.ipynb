{
 "cells": [
  {
   "attachments": {
    "e240e0f3-60da-44b4-81f7-16bb1e506ff5.png": {
     "image/png": "[encoded data removed]"
    }
   },
   "cell_type": "markdown",
   "id": "organized-listening",
   "metadata": {
    "_cell_guid": "b1076dfc-b9ad-4769-8c92-a6c4dae69d19",
    "_uuid": "8f2839f25d086af736a60e9eeb907d3b93b6e0e5",
    "papermill": {
     "duration": 0.02563,
     "end_time": "2021-06-29T07:28:24.569663",
     "exception": false,
     "start_time": "2021-06-29T07:28:24.544033",
     "status": "completed"
    },
    "tags": []
   },
   "source": [
    "# __Implementasi Genetic Algorithm__\n",
    "\n",
    "Kelompok Terserah :\n",
    "\n",
    "| Nama                       | NRP        |\n",
    "| -------------------------- | ---------- |\n",
    "| Muhammad Abrol AL Qushoyyi | 5025201028 |\n",
    "| Moh. Ilham Fakhri Zamzami  | 5025201275 |\n",
    "| Arief Badrus Sholeh        | 5025201228 |\n",
    "| Ahmad Hafizh Assa'ad       | 5025201106 |\n",
    "\n",
    "#### __STUDI KASUS__\n",
    "\n",
    "https://www.kaggle.com/code/tanmayunhale/genetic-algorithm-for-feature-selection/notebook\n",
    "\n",
    "## Genetic Algorithm\n",
    "_________\n",
    "#### Genetic Algorithm (GA) adalah algoritma evolusioner (EA) yang terinspirasi oleh teori seleksi alam Charles Darwin yang mendukung Survival of the fittest. Sesuai teori seleksi alam, individu terkuat dipilih untuk menghasilkan keturunan. Karakteristik orang tua terkuat kemudian diteruskan ke keturunannya menggunakan persilangan dan mutasi untuk memastikan peluang bertahan hidup yang lebih baik. Algoritma genetika adalah algoritma pencarian acak yang menghasilkan solusi optimisasi berkualitas tinggi dengan meniru proses seleksi alam yang diilhami secara biologis seperti seleksi, persilangan, dan mutasi.\n",
    "\n",
    "### Terminology for Genetic Algorithm\n",
    "![](https://miro.medium.com/max/695/1*vIrsxg12DSltpdWoO561yA.png)\n",
    "#### **Population** berisi sekumpulan kemungkinan solusi untuk memulai proses pencarian stokastik. GA akan melakukan iterasi selama beberapa generasi hingga menemukan solusi yang dapat diterima dan dioptimalkan. Generasi pertama dihasilkan secara acak.\n",
    "#### **Chromosome** mewakili satu kandidat solusi yang ada dalam generasi atau populasi. Kromosom juga disebut sebagai Genotipe. Kromosom terdiri dari Gen yang mengandung nilai untuk variabel optimal.\n",
    "#### **Phenotype** adalah daftar parameter yang didekodekan untuk genotipe yang diproses oleh Algoritma Genetika. Pemetaan diterapkan pada genotipe untuk diubah menjadi fenotipe.\n",
    "#### The **Fitness function** atau fungsi tujuan mengevaluasi solusi individual atau fenotipe untuk setiap generasi untuk mengidentifikasi anggota yang paling cocok.\n",
    "__________\n",
    "### Different Genetic Operators\n",
    "#### **Selection** adalah proses pemilihan solusi yang paling cocok dari suatu populasi, dan kemudian solusi yang paling cocok bertindak sebagai orang tua dari solusi generasi berikutnya. Ini memungkinkan generasi berikutnya mewarisi fitur-fitur kuat secara alami. Seleksi dapat dilakukan dengan Roulette Wheel Selection atau **Ranked Selection** berdasarkan nilai fitness.\n",
    "\n",
    "#### **Cross-over** atau rekombinasi terjadi ketika gen dari dua orang tua terkuat dipertukarkan secara acak untuk membentuk genotipe atau solusi baru. Cross over dapat berupa One-point cross over atau Multi-Point Cross over berdasarkan segmen gen induk yang dipertukarkan.\n",
    "![image.png](attachment:e240e0f3-60da-44b4-81f7-16bb1e506ff5.png)\n",
    "#### Here **One-point Cross-over** is used.\n",
    "#### Setelah populasi baru dibuat melalui seleksi dan persilangan, populasi tersebut dimodifikasi secara acak melalui **mutation**. A **mutation** adalah proses untuk memodifikasi genotipe menggunakan proses acak untuk mempromosikan keragaman dalam populasi untuk menemukan solusi yang lebih baik dan optimal\n",
    "![](https://miro.medium.com/max/385/1*bk6zF_rpgGi8IcPIY6fCWg.png)\n",
    "______\n",
    "### Usage of Genetic Algorithm in Artificial Intelligence\n",
    "#### Algoritma Genetika digunakan untuk Pencarian dan Optimasi menggunakan proses iteratif untuk sampai pada solusi terbaik dari beberapa solusi.\n",
    "#### 1. Algoritma Genetika dapat menemukan kumpulan hyperparameter yang sesuai dan nilainya untuk model deep learning guna meningkatkan kinerjanya di Deep Learning.\n",
    "#### 2. Algoritma Genetika juga dapat digunakan untuk menentukan jumlah fitur terbaik untuk disertakan dalam model pembelajaran mesin untuk memprediksi variabel target.\n",
    "____\n",
    "\n",
    "### Working of Genetic Algorithm\n",
    "![](https://miro.medium.com/max/598/1*TZ840m0DvghL80GodVGLeQ.png)\n",
    "____"
   ]
  },
  {
   "cell_type": "markdown",
   "id": "subsequent-casino",
   "metadata": {
    "papermill": {
     "duration": 0.023657,
     "end_time": "2021-06-29T07:28:24.617528",
     "exception": false,
     "start_time": "2021-06-29T07:28:24.593871",
     "status": "completed"
    },
    "tags": []
   },
   "source": [
    "### Importing the required libraries"
   ]
  },
  {
   "cell_type": "code",
   "execution_count": 1,
   "id": "smoking-peter",
   "metadata": {
    "execution": {
     "iopub.execute_input": "2021-06-29T07:28:24.669423Z",
     "iopub.status.busy": "2021-06-29T07:28:24.668229Z",
     "iopub.status.idle": "2021-06-29T07:28:25.958797Z",
     "shell.execute_reply": "2021-06-29T07:28:25.958027Z",
     "shell.execute_reply.started": "2021-06-29T05:20:43.374494Z"
    },
    "papermill": {
     "duration": 1.317509,
     "end_time": "2021-06-29T07:28:25.958985",
     "exception": false,
     "start_time": "2021-06-29T07:28:24.641476",
     "status": "completed"
    },
    "tags": []
   },
   "outputs": [],
   "source": [
    "import numpy as np\n",
    "import pandas as pd\n",
    "import seaborn as sns\n",
    "import matplotlib.pyplot as plt\n",
    "from random import randint\n",
    "%matplotlib inline \n",
    "import warnings\n",
    "warnings.filterwarnings(\"ignore\")\n",
    "\n",
    "from sklearn.model_selection import train_test_split\n",
    "def split(df,label):\n",
    "    X_tr, X_te, Y_tr, Y_te = train_test_split(df, label, test_size=0.25, random_state=42)\n",
    "    return X_tr, X_te, Y_tr, Y_te\n",
    "\n",
    "from sklearn import svm\n",
    "from sklearn.linear_model import LogisticRegression\n",
    "from sklearn.ensemble import RandomForestClassifier, AdaBoostClassifier\n",
    "from sklearn.tree import DecisionTreeClassifier\n",
    "from sklearn.neighbors import KNeighborsClassifier\n",
    "from sklearn.ensemble import GradientBoostingClassifier\n",
    "from sklearn import metrics\n",
    "from sklearn.metrics import accuracy_score\n",
    "from sklearn.model_selection import KFold, cross_val_score\n",
    "\n",
    "classifiers = ['LinearSVM', 'RadialSVM', \n",
    "               'Logistic',  'RandomForest', \n",
    "               'AdaBoost',  'DecisionTree', \n",
    "               'KNeighbors','GradientBoosting']\n",
    "\n",
    "models = [svm.SVC(kernel='linear'),\n",
    "          svm.SVC(kernel='rbf'),\n",
    "          LogisticRegression(max_iter = 1000),\n",
    "          RandomForestClassifier(n_estimators=200, random_state=0),\n",
    "          AdaBoostClassifier(random_state = 0),\n",
    "          DecisionTreeClassifier(random_state=0),\n",
    "          KNeighborsClassifier(),\n",
    "          GradientBoostingClassifier(random_state=0)]\n",
    "\n",
    "\n",
    "def acc_score(df,label):\n",
    "    Score = pd.DataFrame({\"Classifier\":classifiers})\n",
    "    j = 0\n",
    "    acc = []\n",
    "    X_train,X_test,Y_train,Y_test = split(df,label)\n",
    "    for i in models:\n",
    "        model = i\n",
    "        model.fit(X_train,Y_train)\n",
    "        predictions = model.predict(X_test)\n",
    "        acc.append(accuracy_score(Y_test,predictions))\n",
    "        j = j+1     \n",
    "    Score[\"Accuracy\"] = acc\n",
    "    Score.sort_values(by=\"Accuracy\", ascending=False,inplace = True)\n",
    "    Score.reset_index(drop=True, inplace=True)\n",
    "    return Score\n",
    "\n",
    "def plot(score,x,y,c = \"b\"):\n",
    "    gen = [1,2,3,4,5]\n",
    "    plt.figure(figsize=(6,4))\n",
    "    ax = sns.pointplot(x=gen, y=score,color = c )\n",
    "    ax.set(xlabel=\"Generation\", ylabel=\"Accuracy\")\n",
    "    ax.set(ylim=(x,y))"
   ]
  },
  {
   "cell_type": "code",
   "execution_count": 2,
   "id": "wireless-score",
   "metadata": {
    "execution": {
     "iopub.execute_input": "2021-06-29T07:28:26.021277Z",
     "iopub.status.busy": "2021-06-29T07:28:26.016162Z",
     "iopub.status.idle": "2021-06-29T07:28:26.029466Z",
     "shell.execute_reply": "2021-06-29T07:28:26.028893Z",
     "shell.execute_reply.started": "2021-06-29T05:20:44.763513Z"
    },
    "papermill": {
     "duration": 0.046066,
     "end_time": "2021-06-29T07:28:26.029615",
     "exception": false,
     "start_time": "2021-06-29T07:28:25.983549",
     "status": "completed"
    },
    "tags": []
   },
   "outputs": [],
   "source": [
    "def initilization_of_population(size,n_feat):\n",
    "    population = []\n",
    "    for i in range(size):\n",
    "        chromosome = np.ones(n_feat,dtype=np.bool)     \n",
    "        chromosome[:int(0.3*n_feat)]=False             \n",
    "        np.random.shuffle(chromosome)\n",
    "        population.append(chromosome)\n",
    "    return population\n",
    "\n",
    "\n",
    "def fitness_score(population):\n",
    "    scores = []\n",
    "    for chromosome in population:\n",
    "        logmodel.fit(X_train.iloc[:,chromosome],Y_train)         \n",
    "        predictions = logmodel.predict(X_test.iloc[:,chromosome])\n",
    "        scores.append(accuracy_score(Y_test,predictions))\n",
    "    scores, population = np.array(scores), np.array(population) \n",
    "    inds = np.argsort(scores)                                    \n",
    "    return list(scores[inds][::-1]), list(population[inds,:][::-1]) \n",
    "\n",
    "\n",
    "def selection(pop_after_fit,n_parents):\n",
    "    population_nextgen = []\n",
    "    for i in range(n_parents):\n",
    "        population_nextgen.append(pop_after_fit[i])\n",
    "    return population_nextgen\n",
    "\n",
    "\n",
    "def crossover(pop_after_sel):\n",
    "    pop_nextgen = pop_after_sel\n",
    "    for i in range(0,len(pop_after_sel),2):\n",
    "        new_par = []\n",
    "        child_1 , child_2 = pop_nextgen[i] , pop_nextgen[i+1]\n",
    "        new_par = np.concatenate((child_1[:len(child_1)//2],child_2[len(child_1)//2:]))\n",
    "        pop_nextgen.append(new_par)\n",
    "    return pop_nextgen\n",
    "\n",
    "\n",
    "def mutation(pop_after_cross,mutation_rate,n_feat):   \n",
    "    mutation_range = int(mutation_rate*n_feat)\n",
    "    pop_next_gen = []\n",
    "    for n in range(0,len(pop_after_cross)):\n",
    "        chromo = pop_after_cross[n]\n",
    "        rand_posi = [] \n",
    "        for i in range(0,mutation_range):\n",
    "            pos = randint(0,n_feat-1)\n",
    "            rand_posi.append(pos)\n",
    "        for j in rand_posi:\n",
    "            chromo[j] = not chromo[j]  \n",
    "        pop_next_gen.append(chromo)\n",
    "    return pop_next_gen\n",
    "\n",
    "def generations(df,label,size,n_feat,n_parents,mutation_rate,n_gen,X_train,\n",
    "                                   X_test, Y_train, Y_test):\n",
    "    best_chromo= []\n",
    "    best_score= []\n",
    "    population_nextgen=initilization_of_population(size,n_feat)\n",
    "    for i in range(n_gen):\n",
    "        scores, pop_after_fit = fitness_score(population_nextgen)\n",
    "        print('Best score in generation',i+1,':',scores[:1])  #2\n",
    "        pop_after_sel = selection(pop_after_fit,n_parents)\n",
    "        pop_after_cross = crossover(pop_after_sel)\n",
    "        population_nextgen = mutation(pop_after_cross,mutation_rate,n_feat)\n",
    "        best_chromo.append(pop_after_fit[0])\n",
    "        best_score.append(scores[0])\n",
    "    return best_chromo,best_score"
   ]
  },
  {
   "cell_type": "markdown",
   "id": "theoretical-honey",
   "metadata": {
    "papermill": {
     "duration": 0.023797,
     "end_time": "2021-06-29T07:28:26.077380",
     "exception": false,
     "start_time": "2021-06-29T07:28:26.053583",
     "status": "completed"
    },
    "tags": []
   },
   "source": [
    "____\n",
    "### Function Description\n",
    "#### 1. split():\n",
    "Membagi dataset menjadi set pelatihan dan pengujian.\n",
    "#### 2. acc_score():\n",
    "Mengembalikan akurasi untuk semua pengklasifikasi.\n",
    "#### 3. plot():\n",
    "Untuk memplot hasil.\n",
    "_____\n",
    "### Function Description for Genetic Algorithm\n",
    "#### 1. initilization_of_population():\n",
    "Untuk menginisialisasi populasi acak.\n",
    "#### 2. fitness_score():\n",
    "Menampilkan induk terbaik beserta skornya.\n",
    "#### 3. selection():\n",
    "Pemilihan induk terbaik.\n",
    "#### 4. crossover():\n",
    "Mengambil setengah dari induk pertama dan setengah dari induk kedua.\n",
    "#### 5. mutation():\n",
    "Secara acak membalik bit yang dipilih dari anak crossover.\n",
    "#### 6. generations():\n",
    "Menjalankan semua fungsi di atas untuk jumlah generasi yang ditentukan\n",
    "____\n",
    "### The following 3 datasets are used:\n",
    "\n",
    "1. Breast Cancer\n",
    "2. Parkinson's Disease\n",
    "3. PCOS\n",
    "_____\n",
    "### Plan of action:\n",
    "\n",
    "* Looking at dataset (includes a little preprocessing)\n",
    "* Checking Accuracy (comparing accuracies with the new dataset)\n",
    "* Visualization (Plotting the graphs)\n",
    "____"
   ]
  },
  {
   "cell_type": "markdown",
   "id": "governing-croatia",
   "metadata": {
    "papermill": {
     "duration": 0.023847,
     "end_time": "2021-06-29T07:28:26.125872",
     "exception": false,
     "start_time": "2021-06-29T07:28:26.102025",
     "status": "completed"
    },
    "tags": []
   },
   "source": [
    "## Implementation of Genetic Algorithm for Feature Selection\n",
    "________\n",
    "#### Pertama, kita menjalankan fungsi untuk menginisialisasi populasi acak.\n",
    "#### Populasi acak sekarang dijalankan melalui fungsi kebugaran, yang mengembalikan induk terbaik (akurasi tertinggi).\n",
    "#### Pemilihan dari parent terbaik ini akan terjadi tergantung pada parameter n-parent.\n",
    "#### Setelah melakukan hal yang sama, maka akan dimasukkan melalui fungsi crossover dan mutasi masing-masing.\n",
    "#### Cross over dibuat dengan menggabungkan gen dari dua orang tua terkuat dengan secara acak memilih bagian dari orang tua pertama dan bagian dari orang tua kedua.\n",
    "#### Mutasi dicapai dengan membalik bit yang dipilih secara acak untuk anak crossover.\n",
    "#### Generasi baru diciptakan dengan memilih orang tua yang paling cocok dari generasi sebelumnya dan menerapkan cross-over dan mutasi.\n",
    "#### Proses ini diulang untuk n jumlah generasi.\n",
    "______"
   ]
  },
  {
   "cell_type": "markdown",
   "id": "literary-observation",
   "metadata": {
    "papermill": {
     "duration": 0.023965,
     "end_time": "2021-06-29T07:28:26.173580",
     "exception": false,
     "start_time": "2021-06-29T07:28:26.149615",
     "status": "completed"
    },
    "tags": []
   },
   "source": [
    "____\n",
    "# Breast Cancer\n",
    "____"
   ]
  },
  {
   "cell_type": "markdown",
   "id": "instructional-salon",
   "metadata": {
    "papermill": {
     "duration": 0.023615,
     "end_time": "2021-06-29T07:28:26.221018",
     "exception": false,
     "start_time": "2021-06-29T07:28:26.197403",
     "status": "completed"
    },
    "tags": []
   },
   "source": [
    "### 1. Looking at dataset"
   ]
  },
  {
   "cell_type": "code",
   "execution_count": 3,
   "id": "completed-courtesy",
   "metadata": {
    "execution": {
     "iopub.execute_input": "2021-06-29T07:28:26.275259Z",
     "iopub.status.busy": "2021-06-29T07:28:26.274565Z",
     "iopub.status.idle": "2021-06-29T07:28:26.308306Z",
     "shell.execute_reply": "2021-06-29T07:28:26.307675Z",
     "shell.execute_reply.started": "2021-06-28T17:02:24.559859Z"
    },
    "papermill": {
     "duration": 0.06343,
     "end_time": "2021-06-29T07:28:26.308455",
     "exception": false,
     "start_time": "2021-06-29T07:28:26.245025",
     "status": "completed"
    },
    "tags": []
   },
   "outputs": [
    {
     "name": "stdout",
     "output_type": "stream",
     "text": [
      "Breast Cancer dataset:\n",
      " 569 Records\n",
      " 30 Features\n"
     ]
    }
   ],
   "source": [
    "data_bc = pd.read_csv(\"input/breast_cancer.csv\")\n",
    "label_bc = data_bc[\"diagnosis\"]\n",
    "label_bc = np.where(label_bc == 'M',1,0)\n",
    "data_bc.drop([\"id\",\"diagnosis\",\"Unnamed: 32\"],axis = 1,inplace = True)\n",
    "\n",
    "print(\"Breast Cancer dataset:\\n\",data_bc.shape[0],\"Records\\n\",data_bc.shape[1],\"Features\")"
   ]
  },
  {
   "cell_type": "code",
   "execution_count": 4,
   "id": "horizontal-orleans",
   "metadata": {
    "execution": {
     "iopub.execute_input": "2021-06-29T07:28:26.366560Z",
     "iopub.status.busy": "2021-06-29T07:28:26.365648Z",
     "iopub.status.idle": "2021-06-29T07:28:26.400071Z",
     "shell.execute_reply": "2021-06-29T07:28:26.399440Z",
     "shell.execute_reply.started": "2021-06-28T17:02:24.778278Z"
    },
    "papermill": {
     "duration": 0.066227,
     "end_time": "2021-06-29T07:28:26.400211",
     "exception": false,
     "start_time": "2021-06-29T07:28:26.333984",
     "status": "completed"
    },
    "tags": []
   },
   "outputs": [
    {
     "data": {
      "text/html": [
       "<div>\n",
       "<style scoped>\n",
       "    .dataframe tbody tr th:only-of-type {\n",
       "        vertical-align: middle;\n",
       "    }\n",
       "\n",
       "    .dataframe tbody tr th {\n",
       "        vertical-align: top;\n",
       "    }\n",
       "\n",
       "    .dataframe thead th {\n",
       "        text-align: right;\n",
       "    }\n",
       "</style>\n",
       "<table border=\"1\" class=\"dataframe\">\n",
       "  <thead>\n",
       "    <tr style=\"text-align: right;\">\n",
       "      <th></th>\n",
       "      <th>radius_mean</th>\n",
       "      <th>texture_mean</th>\n",
       "      <th>perimeter_mean</th>\n",
       "      <th>area_mean</th>\n",
       "      <th>smoothness_mean</th>\n",
       "      <th>compactness_mean</th>\n",
       "      <th>concavity_mean</th>\n",
       "      <th>concave points_mean</th>\n",
       "      <th>symmetry_mean</th>\n",
       "      <th>fractal_dimension_mean</th>\n",
       "      <th>...</th>\n",
       "      <th>radius_worst</th>\n",
       "      <th>texture_worst</th>\n",
       "      <th>perimeter_worst</th>\n",
       "      <th>area_worst</th>\n",
       "      <th>smoothness_worst</th>\n",
       "      <th>compactness_worst</th>\n",
       "      <th>concavity_worst</th>\n",
       "      <th>concave points_worst</th>\n",
       "      <th>symmetry_worst</th>\n",
       "      <th>fractal_dimension_worst</th>\n",
       "    </tr>\n",
       "  </thead>\n",
       "  <tbody>\n",
       "    <tr>\n",
       "      <th>0</th>\n",
       "      <td>17.99</td>\n",
       "      <td>10.38</td>\n",
       "      <td>122.80</td>\n",
       "      <td>1001.0</td>\n",
       "      <td>0.11840</td>\n",
       "      <td>0.27760</td>\n",
       "      <td>0.3001</td>\n",
       "      <td>0.14710</td>\n",
       "      <td>0.2419</td>\n",
       "      <td>0.07871</td>\n",
       "      <td>...</td>\n",
       "      <td>25.38</td>\n",
       "      <td>17.33</td>\n",
       "      <td>184.60</td>\n",
       "      <td>2019.0</td>\n",
       "      <td>0.1622</td>\n",
       "      <td>0.6656</td>\n",
       "      <td>0.7119</td>\n",
       "      <td>0.2654</td>\n",
       "      <td>0.4601</td>\n",
       "      <td>0.11890</td>\n",
       "    </tr>\n",
       "    <tr>\n",
       "      <th>1</th>\n",
       "      <td>20.57</td>\n",
       "      <td>17.77</td>\n",
       "      <td>132.90</td>\n",
       "      <td>1326.0</td>\n",
       "      <td>0.08474</td>\n",
       "      <td>0.07864</td>\n",
       "      <td>0.0869</td>\n",
       "      <td>0.07017</td>\n",
       "      <td>0.1812</td>\n",
       "      <td>0.05667</td>\n",
       "      <td>...</td>\n",
       "      <td>24.99</td>\n",
       "      <td>23.41</td>\n",
       "      <td>158.80</td>\n",
       "      <td>1956.0</td>\n",
       "      <td>0.1238</td>\n",
       "      <td>0.1866</td>\n",
       "      <td>0.2416</td>\n",
       "      <td>0.1860</td>\n",
       "      <td>0.2750</td>\n",
       "      <td>0.08902</td>\n",
       "    </tr>\n",
       "    <tr>\n",
       "      <th>2</th>\n",
       "      <td>19.69</td>\n",
       "      <td>21.25</td>\n",
       "      <td>130.00</td>\n",
       "      <td>1203.0</td>\n",
       "      <td>0.10960</td>\n",
       "      <td>0.15990</td>\n",
       "      <td>0.1974</td>\n",
       "      <td>0.12790</td>\n",
       "      <td>0.2069</td>\n",
       "      <td>0.05999</td>\n",
       "      <td>...</td>\n",
       "      <td>23.57</td>\n",
       "      <td>25.53</td>\n",
       "      <td>152.50</td>\n",
       "      <td>1709.0</td>\n",
       "      <td>0.1444</td>\n",
       "      <td>0.4245</td>\n",
       "      <td>0.4504</td>\n",
       "      <td>0.2430</td>\n",
       "      <td>0.3613</td>\n",
       "      <td>0.08758</td>\n",
       "    </tr>\n",
       "    <tr>\n",
       "      <th>3</th>\n",
       "      <td>11.42</td>\n",
       "      <td>20.38</td>\n",
       "      <td>77.58</td>\n",
       "      <td>386.1</td>\n",
       "      <td>0.14250</td>\n",
       "      <td>0.28390</td>\n",
       "      <td>0.2414</td>\n",
       "      <td>0.10520</td>\n",
       "      <td>0.2597</td>\n",
       "      <td>0.09744</td>\n",
       "      <td>...</td>\n",
       "      <td>14.91</td>\n",
       "      <td>26.50</td>\n",
       "      <td>98.87</td>\n",
       "      <td>567.7</td>\n",
       "      <td>0.2098</td>\n",
       "      <td>0.8663</td>\n",
       "      <td>0.6869</td>\n",
       "      <td>0.2575</td>\n",
       "      <td>0.6638</td>\n",
       "      <td>0.17300</td>\n",
       "    </tr>\n",
       "    <tr>\n",
       "      <th>4</th>\n",
       "      <td>20.29</td>\n",
       "      <td>14.34</td>\n",
       "      <td>135.10</td>\n",
       "      <td>1297.0</td>\n",
       "      <td>0.10030</td>\n",
       "      <td>0.13280</td>\n",
       "      <td>0.1980</td>\n",
       "      <td>0.10430</td>\n",
       "      <td>0.1809</td>\n",
       "      <td>0.05883</td>\n",
       "      <td>...</td>\n",
       "      <td>22.54</td>\n",
       "      <td>16.67</td>\n",
       "      <td>152.20</td>\n",
       "      <td>1575.0</td>\n",
       "      <td>0.1374</td>\n",
       "      <td>0.2050</td>\n",
       "      <td>0.4000</td>\n",
       "      <td>0.1625</td>\n",
       "      <td>0.2364</td>\n",
       "      <td>0.07678</td>\n",
       "    </tr>\n",
       "  </tbody>\n",
       "</table>\n",
       "<p>5 rows × 30 columns</p>\n",
       "</div>"
      ],
      "text/plain": [
       "   radius_mean  texture_mean  perimeter_mean  area_mean  smoothness_mean  \\\n",
       "0        17.99         10.38          122.80     1001.0          0.11840   \n",
       "1        20.57         17.77          132.90     1326.0          0.08474   \n",
       "2        19.69         21.25          130.00     1203.0          0.10960   \n",
       "3        11.42         20.38           77.58      386.1          0.14250   \n",
       "4        20.29         14.34          135.10     1297.0          0.10030   \n",
       "\n",
       "   compactness_mean  concavity_mean  concave points_mean  symmetry_mean  \\\n",
       "0           0.27760          0.3001              0.14710         0.2419   \n",
       "1           0.07864          0.0869              0.07017         0.1812   \n",
       "2           0.15990          0.1974              0.12790         0.2069   \n",
       "3           0.28390          0.2414              0.10520         0.2597   \n",
       "4           0.13280          0.1980              0.10430         0.1809   \n",
       "\n",
       "   fractal_dimension_mean  ...  radius_worst  texture_worst  perimeter_worst  \\\n",
       "0                 0.07871  ...         25.38          17.33           184.60   \n",
       "1                 0.05667  ...         24.99          23.41           158.80   \n",
       "2                 0.05999  ...         23.57          25.53           152.50   \n",
       "3                 0.09744  ...         14.91          26.50            98.87   \n",
       "4                 0.05883  ...         22.54          16.67           152.20   \n",
       "\n",
       "   area_worst  smoothness_worst  compactness_worst  concavity_worst  \\\n",
       "0      2019.0            0.1622             0.6656           0.7119   \n",
       "1      1956.0            0.1238             0.1866           0.2416   \n",
       "2      1709.0            0.1444             0.4245           0.4504   \n",
       "3       567.7            0.2098             0.8663           0.6869   \n",
       "4      1575.0            0.1374             0.2050           0.4000   \n",
       "\n",
       "   concave points_worst  symmetry_worst  fractal_dimension_worst  \n",
       "0                0.2654          0.4601                  0.11890  \n",
       "1                0.1860          0.2750                  0.08902  \n",
       "2                0.2430          0.3613                  0.08758  \n",
       "3                0.2575          0.6638                  0.17300  \n",
       "4                0.1625          0.2364                  0.07678  \n",
       "\n",
       "[5 rows x 30 columns]"
      ]
     },
     "metadata": {},
     "output_type": "display_data"
    },
    {
     "name": "stdout",
     "output_type": "stream",
     "text": [
      "All the features in this dataset have continuous values\n"
     ]
    }
   ],
   "source": [
    "display(data_bc.head())\n",
    "print(\"All the features in this dataset have continuous values\")"
   ]
  },
  {
   "cell_type": "markdown",
   "id": "sapphire-brief",
   "metadata": {
    "papermill": {
     "duration": 0.025012,
     "end_time": "2021-06-29T07:28:26.450645",
     "exception": false,
     "start_time": "2021-06-29T07:28:26.425633",
     "status": "completed"
    },
    "tags": []
   },
   "source": [
    "### 2. Checking Accuracy"
   ]
  },
  {
   "cell_type": "code",
   "execution_count": 5,
   "id": "existing-joyce",
   "metadata": {
    "execution": {
     "iopub.execute_input": "2021-06-29T07:28:26.511494Z",
     "iopub.status.busy": "2021-06-29T07:28:26.510809Z",
     "iopub.status.idle": "2021-06-29T07:28:29.968929Z",
     "shell.execute_reply": "2021-06-29T07:28:29.968069Z",
     "shell.execute_reply.started": "2021-06-28T17:02:25.788904Z"
    },
    "papermill": {
     "duration": 3.492981,
     "end_time": "2021-06-29T07:28:29.969093",
     "exception": false,
     "start_time": "2021-06-29T07:28:26.476112",
     "status": "completed"
    },
    "tags": []
   },
   "outputs": [
    {
     "data": {
      "text/html": [
       "<div>\n",
       "<style scoped>\n",
       "    .dataframe tbody tr th:only-of-type {\n",
       "        vertical-align: middle;\n",
       "    }\n",
       "\n",
       "    .dataframe tbody tr th {\n",
       "        vertical-align: top;\n",
       "    }\n",
       "\n",
       "    .dataframe thead th {\n",
       "        text-align: right;\n",
       "    }\n",
       "</style>\n",
       "<table border=\"1\" class=\"dataframe\">\n",
       "  <thead>\n",
       "    <tr style=\"text-align: right;\">\n",
       "      <th></th>\n",
       "      <th>Classifier</th>\n",
       "      <th>Accuracy</th>\n",
       "    </tr>\n",
       "  </thead>\n",
       "  <tbody>\n",
       "    <tr>\n",
       "      <th>0</th>\n",
       "      <td>RandomForest</td>\n",
       "      <td>0.972028</td>\n",
       "    </tr>\n",
       "    <tr>\n",
       "      <th>1</th>\n",
       "      <td>KNeighbors</td>\n",
       "      <td>0.965035</td>\n",
       "    </tr>\n",
       "    <tr>\n",
       "      <th>2</th>\n",
       "      <td>LinearSVM</td>\n",
       "      <td>0.958042</td>\n",
       "    </tr>\n",
       "    <tr>\n",
       "      <th>3</th>\n",
       "      <td>Logistic</td>\n",
       "      <td>0.958042</td>\n",
       "    </tr>\n",
       "    <tr>\n",
       "      <th>4</th>\n",
       "      <td>GradientBoosting</td>\n",
       "      <td>0.958042</td>\n",
       "    </tr>\n",
       "    <tr>\n",
       "      <th>5</th>\n",
       "      <td>RadialSVM</td>\n",
       "      <td>0.951049</td>\n",
       "    </tr>\n",
       "    <tr>\n",
       "      <th>6</th>\n",
       "      <td>AdaBoost</td>\n",
       "      <td>0.951049</td>\n",
       "    </tr>\n",
       "    <tr>\n",
       "      <th>7</th>\n",
       "      <td>DecisionTree</td>\n",
       "      <td>0.930070</td>\n",
       "    </tr>\n",
       "  </tbody>\n",
       "</table>\n",
       "</div>"
      ],
      "text/plain": [
       "         Classifier  Accuracy\n",
       "0      RandomForest  0.972028\n",
       "1        KNeighbors  0.965035\n",
       "2         LinearSVM  0.958042\n",
       "3          Logistic  0.958042\n",
       "4  GradientBoosting  0.958042\n",
       "5         RadialSVM  0.951049\n",
       "6          AdaBoost  0.951049\n",
       "7      DecisionTree  0.930070"
      ]
     },
     "execution_count": 5,
     "metadata": {},
     "output_type": "execute_result"
    }
   ],
   "source": [
    "score1 = acc_score(data_bc,label_bc)\n",
    "score1"
   ]
  },
  {
   "cell_type": "markdown",
   "id": "parallel-papua",
   "metadata": {
    "papermill": {
     "duration": 0.027322,
     "end_time": "2021-06-29T07:28:30.022361",
     "exception": false,
     "start_time": "2021-06-29T07:28:29.995039",
     "status": "completed"
    },
    "tags": []
   },
   "source": [
    "#### Choosing the best classifier for further calculations"
   ]
  },
  {
   "cell_type": "code",
   "execution_count": 6,
   "id": "about-uganda",
   "metadata": {
    "execution": {
     "iopub.execute_input": "2021-06-29T07:28:30.090532Z",
     "iopub.status.busy": "2021-06-29T07:28:30.085408Z",
     "iopub.status.idle": "2021-06-29T07:32:16.678189Z",
     "shell.execute_reply": "2021-06-29T07:32:16.678718Z",
     "shell.execute_reply.started": "2021-06-28T17:51:58.722195Z"
    },
    "papermill": {
     "duration": 226.630752,
     "end_time": "2021-06-29T07:32:16.678912",
     "exception": false,
     "start_time": "2021-06-29T07:28:30.048160",
     "status": "completed"
    },
    "tags": []
   },
   "outputs": [
    {
     "name": "stdout",
     "output_type": "stream",
     "text": [
      "Best score in generation 1 : [0.993006993006993]\n",
      "Best score in generation 2 : [0.986013986013986]\n",
      "Best score in generation 3 : [0.993006993006993]\n",
      "Best score in generation 4 : [0.993006993006993]\n",
      "Best score in generation 5 : [0.986013986013986]\n"
     ]
    }
   ],
   "source": [
    "logmodel = RandomForestClassifier(n_estimators=200, random_state=0)\n",
    "X_train,X_test, Y_train, Y_test = split(data_bc,label_bc)\n",
    "chromo_df_bc,score_bc=generations(data_bc,label_bc,size=80,n_feat=data_bc.shape[1],n_parents=64,mutation_rate=0.20,n_gen=5,\n",
    "                         X_train = X_train,X_test = X_test,Y_train = Y_train,Y_test = Y_test)"
   ]
  },
  {
   "cell_type": "markdown",
   "id": "pleasant-minute",
   "metadata": {
    "papermill": {
     "duration": 0.027125,
     "end_time": "2021-06-29T07:32:16.733453",
     "exception": false,
     "start_time": "2021-06-29T07:32:16.706328",
     "status": "completed"
    },
    "tags": []
   },
   "source": [
    "#### We can see an improvement of 1-2%"
   ]
  },
  {
   "cell_type": "markdown",
   "id": "regulated-animation",
   "metadata": {
    "papermill": {
     "duration": 0.027105,
     "end_time": "2021-06-29T07:32:16.787930",
     "exception": false,
     "start_time": "2021-06-29T07:32:16.760825",
     "status": "completed"
    },
    "tags": []
   },
   "source": [
    "### 3. Visualization"
   ]
  },
  {
   "cell_type": "code",
   "execution_count": 7,
   "id": "based-michigan",
   "metadata": {
    "execution": {
     "iopub.execute_input": "2021-06-29T07:32:16.872150Z",
     "iopub.status.busy": "2021-06-29T07:32:16.871472Z",
     "iopub.status.idle": "2021-06-29T07:32:17.013566Z",
     "shell.execute_reply": "2021-06-29T07:32:17.012866Z",
     "shell.execute_reply.started": "2021-06-28T17:55:12.780695Z"
    },
    "papermill": {
     "duration": 0.198339,
     "end_time": "2021-06-29T07:32:17.013715",
     "exception": false,
     "start_time": "2021-06-29T07:32:16.815376",
     "status": "completed"
    },
    "tags": []
   },
   "outputs": [
    {
     "data": {
      "image/png": "[encoded data removed]",
      "text/plain": [
       "<Figure size 600x400 with 1 Axes>"
      ]
     },
     "metadata": {},
     "output_type": "display_data"
    }
   ],
   "source": [
    "plot(score_bc,0.9,1.0,c = \"gold\")"
   ]
  },
  {
   "cell_type": "markdown",
   "id": "hungry-advancement",
   "metadata": {
    "papermill": {
     "duration": 0.027865,
     "end_time": "2021-06-29T07:32:17.070127",
     "exception": false,
     "start_time": "2021-06-29T07:32:17.042262",
     "status": "completed"
    },
    "tags": []
   },
   "source": [
    "_____\n",
    "# Parkinson's disease\n",
    "_____"
   ]
  },
  {
   "cell_type": "markdown",
   "id": "billion-temperature",
   "metadata": {
    "papermill": {
     "duration": 0.027749,
     "end_time": "2021-06-29T07:32:17.126446",
     "exception": false,
     "start_time": "2021-06-29T07:32:17.098697",
     "status": "completed"
    },
    "tags": []
   },
   "source": [
    "### 1. Looking at dataset"
   ]
  },
  {
   "cell_type": "code",
   "execution_count": 8,
   "id": "verbal-capability",
   "metadata": {
    "execution": {
     "iopub.execute_input": "2021-06-29T07:32:17.188272Z",
     "iopub.status.busy": "2021-06-29T07:32:17.187612Z",
     "iopub.status.idle": "2021-06-29T07:32:17.209979Z",
     "shell.execute_reply": "2021-06-29T07:32:17.209252Z"
    },
    "papermill": {
     "duration": 0.05554,
     "end_time": "2021-06-29T07:32:17.210189",
     "exception": false,
     "start_time": "2021-06-29T07:32:17.154649",
     "status": "completed"
    },
    "tags": []
   },
   "outputs": [
    {
     "name": "stdout",
     "output_type": "stream",
     "text": [
      "Parkinson's disease dataset:\n",
      " 195 Records\n",
      " 22 Features\n"
     ]
    }
   ],
   "source": [
    "data_pd = pd.read_csv(\"input/Parkinsson_disease.csv\")\n",
    "label_pd = data_pd[\"status\"]\n",
    "data_pd.drop([\"status\",\"name\"],axis = 1,inplace = True)\n",
    "\n",
    "print(\"Parkinson's disease dataset:\\n\",data_pd.shape[0],\"Records\\n\",data_pd.shape[1],\"Features\")"
   ]
  },
  {
   "cell_type": "code",
   "execution_count": 9,
   "id": "involved-developer",
   "metadata": {
    "execution": {
     "iopub.execute_input": "2021-06-29T07:32:17.295661Z",
     "iopub.status.busy": "2021-06-29T07:32:17.291188Z",
     "iopub.status.idle": "2021-06-29T07:32:17.300639Z",
     "shell.execute_reply": "2021-06-29T07:32:17.301180Z"
    },
    "papermill": {
     "duration": 0.062068,
     "end_time": "2021-06-29T07:32:17.301357",
     "exception": false,
     "start_time": "2021-06-29T07:32:17.239289",
     "status": "completed"
    },
    "tags": []
   },
   "outputs": [
    {
     "data": {
      "text/html": [
       "<div>\n",
       "<style scoped>\n",
       "    .dataframe tbody tr th:only-of-type {\n",
       "        vertical-align: middle;\n",
       "    }\n",
       "\n",
       "    .dataframe tbody tr th {\n",
       "        vertical-align: top;\n",
       "    }\n",
       "\n",
       "    .dataframe thead th {\n",
       "        text-align: right;\n",
       "    }\n",
       "</style>\n",
       "<table border=\"1\" class=\"dataframe\">\n",
       "  <thead>\n",
       "    <tr style=\"text-align: right;\">\n",
       "      <th></th>\n",
       "      <th>MDVP:Fo(Hz)</th>\n",
       "      <th>MDVP:Fhi(Hz)</th>\n",
       "      <th>MDVP:Flo(Hz)</th>\n",
       "      <th>MDVP:Jitter(%)</th>\n",
       "      <th>MDVP:Jitter(Abs)</th>\n",
       "      <th>MDVP:RAP</th>\n",
       "      <th>MDVP:PPQ</th>\n",
       "      <th>Jitter:DDP</th>\n",
       "      <th>MDVP:Shimmer</th>\n",
       "      <th>MDVP:Shimmer(dB)</th>\n",
       "      <th>...</th>\n",
       "      <th>MDVP:APQ</th>\n",
       "      <th>Shimmer:DDA</th>\n",
       "      <th>NHR</th>\n",
       "      <th>HNR</th>\n",
       "      <th>RPDE</th>\n",
       "      <th>DFA</th>\n",
       "      <th>spread1</th>\n",
       "      <th>spread2</th>\n",
       "      <th>D2</th>\n",
       "      <th>PPE</th>\n",
       "    </tr>\n",
       "  </thead>\n",
       "  <tbody>\n",
       "    <tr>\n",
       "      <th>0</th>\n",
       "      <td>119.992</td>\n",
       "      <td>157.302</td>\n",
       "      <td>74.997</td>\n",
       "      <td>0.00784</td>\n",
       "      <td>0.00007</td>\n",
       "      <td>0.00370</td>\n",
       "      <td>0.00554</td>\n",
       "      <td>0.01109</td>\n",
       "      <td>0.04374</td>\n",
       "      <td>0.426</td>\n",
       "      <td>...</td>\n",
       "      <td>0.02971</td>\n",
       "      <td>0.06545</td>\n",
       "      <td>0.02211</td>\n",
       "      <td>21.033</td>\n",
       "      <td>0.414783</td>\n",
       "      <td>0.815285</td>\n",
       "      <td>-4.813031</td>\n",
       "      <td>0.266482</td>\n",
       "      <td>2.301442</td>\n",
       "      <td>0.284654</td>\n",
       "    </tr>\n",
       "    <tr>\n",
       "      <th>1</th>\n",
       "      <td>122.400</td>\n",
       "      <td>148.650</td>\n",
       "      <td>113.819</td>\n",
       "      <td>0.00968</td>\n",
       "      <td>0.00008</td>\n",
       "      <td>0.00465</td>\n",
       "      <td>0.00696</td>\n",
       "      <td>0.01394</td>\n",
       "      <td>0.06134</td>\n",
       "      <td>0.626</td>\n",
       "      <td>...</td>\n",
       "      <td>0.04368</td>\n",
       "      <td>0.09403</td>\n",
       "      <td>0.01929</td>\n",
       "      <td>19.085</td>\n",
       "      <td>0.458359</td>\n",
       "      <td>0.819521</td>\n",
       "      <td>-4.075192</td>\n",
       "      <td>0.335590</td>\n",
       "      <td>2.486855</td>\n",
       "      <td>0.368674</td>\n",
       "    </tr>\n",
       "    <tr>\n",
       "      <th>2</th>\n",
       "      <td>116.682</td>\n",
       "      <td>131.111</td>\n",
       "      <td>111.555</td>\n",
       "      <td>0.01050</td>\n",
       "      <td>0.00009</td>\n",
       "      <td>0.00544</td>\n",
       "      <td>0.00781</td>\n",
       "      <td>0.01633</td>\n",
       "      <td>0.05233</td>\n",
       "      <td>0.482</td>\n",
       "      <td>...</td>\n",
       "      <td>0.03590</td>\n",
       "      <td>0.08270</td>\n",
       "      <td>0.01309</td>\n",
       "      <td>20.651</td>\n",
       "      <td>0.429895</td>\n",
       "      <td>0.825288</td>\n",
       "      <td>-4.443179</td>\n",
       "      <td>0.311173</td>\n",
       "      <td>2.342259</td>\n",
       "      <td>0.332634</td>\n",
       "    </tr>\n",
       "    <tr>\n",
       "      <th>3</th>\n",
       "      <td>116.676</td>\n",
       "      <td>137.871</td>\n",
       "      <td>111.366</td>\n",
       "      <td>0.00997</td>\n",
       "      <td>0.00009</td>\n",
       "      <td>0.00502</td>\n",
       "      <td>0.00698</td>\n",
       "      <td>0.01505</td>\n",
       "      <td>0.05492</td>\n",
       "      <td>0.517</td>\n",
       "      <td>...</td>\n",
       "      <td>0.03772</td>\n",
       "      <td>0.08771</td>\n",
       "      <td>0.01353</td>\n",
       "      <td>20.644</td>\n",
       "      <td>0.434969</td>\n",
       "      <td>0.819235</td>\n",
       "      <td>-4.117501</td>\n",
       "      <td>0.334147</td>\n",
       "      <td>2.405554</td>\n",
       "      <td>0.368975</td>\n",
       "    </tr>\n",
       "    <tr>\n",
       "      <th>4</th>\n",
       "      <td>116.014</td>\n",
       "      <td>141.781</td>\n",
       "      <td>110.655</td>\n",
       "      <td>0.01284</td>\n",
       "      <td>0.00011</td>\n",
       "      <td>0.00655</td>\n",
       "      <td>0.00908</td>\n",
       "      <td>0.01966</td>\n",
       "      <td>0.06425</td>\n",
       "      <td>0.584</td>\n",
       "      <td>...</td>\n",
       "      <td>0.04465</td>\n",
       "      <td>0.10470</td>\n",
       "      <td>0.01767</td>\n",
       "      <td>19.649</td>\n",
       "      <td>0.417356</td>\n",
       "      <td>0.823484</td>\n",
       "      <td>-3.747787</td>\n",
       "      <td>0.234513</td>\n",
       "      <td>2.332180</td>\n",
       "      <td>0.410335</td>\n",
       "    </tr>\n",
       "  </tbody>\n",
       "</table>\n",
       "<p>5 rows × 22 columns</p>\n",
       "</div>"
      ],
      "text/plain": [
       "   MDVP:Fo(Hz)  MDVP:Fhi(Hz)  MDVP:Flo(Hz)  MDVP:Jitter(%)  MDVP:Jitter(Abs)  \\\n",
       "0      119.992       157.302        74.997         0.00784           0.00007   \n",
       "1      122.400       148.650       113.819         0.00968           0.00008   \n",
       "2      116.682       131.111       111.555         0.01050           0.00009   \n",
       "3      116.676       137.871       111.366         0.00997           0.00009   \n",
       "4      116.014       141.781       110.655         0.01284           0.00011   \n",
       "\n",
       "   MDVP:RAP  MDVP:PPQ  Jitter:DDP  MDVP:Shimmer  MDVP:Shimmer(dB)  ...  \\\n",
       "0   0.00370   0.00554     0.01109       0.04374             0.426  ...   \n",
       "1   0.00465   0.00696     0.01394       0.06134             0.626  ...   \n",
       "2   0.00544   0.00781     0.01633       0.05233             0.482  ...   \n",
       "3   0.00502   0.00698     0.01505       0.05492             0.517  ...   \n",
       "4   0.00655   0.00908     0.01966       0.06425             0.584  ...   \n",
       "\n",
       "   MDVP:APQ  Shimmer:DDA      NHR     HNR      RPDE       DFA   spread1  \\\n",
       "0   0.02971      0.06545  0.02211  21.033  0.414783  0.815285 -4.813031   \n",
       "1   0.04368      0.09403  0.01929  19.085  0.458359  0.819521 -4.075192   \n",
       "2   0.03590      0.08270  0.01309  20.651  0.429895  0.825288 -4.443179   \n",
       "3   0.03772      0.08771  0.01353  20.644  0.434969  0.819235 -4.117501   \n",
       "4   0.04465      0.10470  0.01767  19.649  0.417356  0.823484 -3.747787   \n",
       "\n",
       "    spread2        D2       PPE  \n",
       "0  0.266482  2.301442  0.284654  \n",
       "1  0.335590  2.486855  0.368674  \n",
       "2  0.311173  2.342259  0.332634  \n",
       "3  0.334147  2.405554  0.368975  \n",
       "4  0.234513  2.332180  0.410335  \n",
       "\n",
       "[5 rows x 22 columns]"
      ]
     },
     "metadata": {},
     "output_type": "display_data"
    },
    {
     "name": "stdout",
     "output_type": "stream",
     "text": [
      "All the features in this dataset have continuous values\n"
     ]
    }
   ],
   "source": [
    "display(data_pd.head())\n",
    "print(\"All the features in this dataset have continuous values\")"
   ]
  },
  {
   "cell_type": "markdown",
   "id": "mediterranean-newport",
   "metadata": {
    "papermill": {
     "duration": 0.030676,
     "end_time": "2021-06-29T07:32:17.361684",
     "exception": false,
     "start_time": "2021-06-29T07:32:17.331008",
     "status": "completed"
    },
    "tags": []
   },
   "source": [
    "### 2. Checking Accuracy"
   ]
  },
  {
   "cell_type": "code",
   "execution_count": 10,
   "id": "creative-season",
   "metadata": {
    "execution": {
     "iopub.execute_input": "2021-06-29T07:32:17.432928Z",
     "iopub.status.busy": "2021-06-29T07:32:17.432293Z",
     "iopub.status.idle": "2021-06-29T07:32:18.314711Z",
     "shell.execute_reply": "2021-06-29T07:32:18.314073Z"
    },
    "papermill": {
     "duration": 0.922737,
     "end_time": "2021-06-29T07:32:18.314856",
     "exception": false,
     "start_time": "2021-06-29T07:32:17.392119",
     "status": "completed"
    },
    "tags": []
   },
   "outputs": [
    {
     "data": {
      "text/html": [
       "<div>\n",
       "<style scoped>\n",
       "    .dataframe tbody tr th:only-of-type {\n",
       "        vertical-align: middle;\n",
       "    }\n",
       "\n",
       "    .dataframe tbody tr th {\n",
       "        vertical-align: top;\n",
       "    }\n",
       "\n",
       "    .dataframe thead th {\n",
       "        text-align: right;\n",
       "    }\n",
       "</style>\n",
       "<table border=\"1\" class=\"dataframe\">\n",
       "  <thead>\n",
       "    <tr style=\"text-align: right;\">\n",
       "      <th></th>\n",
       "      <th>Classifier</th>\n",
       "      <th>Accuracy</th>\n",
       "    </tr>\n",
       "  </thead>\n",
       "  <tbody>\n",
       "    <tr>\n",
       "      <th>0</th>\n",
       "      <td>RandomForest</td>\n",
       "      <td>0.918367</td>\n",
       "    </tr>\n",
       "    <tr>\n",
       "      <th>1</th>\n",
       "      <td>Logistic</td>\n",
       "      <td>0.897959</td>\n",
       "    </tr>\n",
       "    <tr>\n",
       "      <th>2</th>\n",
       "      <td>GradientBoosting</td>\n",
       "      <td>0.897959</td>\n",
       "    </tr>\n",
       "    <tr>\n",
       "      <th>3</th>\n",
       "      <td>LinearSVM</td>\n",
       "      <td>0.877551</td>\n",
       "    </tr>\n",
       "    <tr>\n",
       "      <th>4</th>\n",
       "      <td>DecisionTree</td>\n",
       "      <td>0.877551</td>\n",
       "    </tr>\n",
       "    <tr>\n",
       "      <th>5</th>\n",
       "      <td>AdaBoost</td>\n",
       "      <td>0.857143</td>\n",
       "    </tr>\n",
       "    <tr>\n",
       "      <th>6</th>\n",
       "      <td>RadialSVM</td>\n",
       "      <td>0.836735</td>\n",
       "    </tr>\n",
       "    <tr>\n",
       "      <th>7</th>\n",
       "      <td>KNeighbors</td>\n",
       "      <td>0.836735</td>\n",
       "    </tr>\n",
       "  </tbody>\n",
       "</table>\n",
       "</div>"
      ],
      "text/plain": [
       "         Classifier  Accuracy\n",
       "0      RandomForest  0.918367\n",
       "1          Logistic  0.897959\n",
       "2  GradientBoosting  0.897959\n",
       "3         LinearSVM  0.877551\n",
       "4      DecisionTree  0.877551\n",
       "5          AdaBoost  0.857143\n",
       "6         RadialSVM  0.836735\n",
       "7        KNeighbors  0.836735"
      ]
     },
     "execution_count": 10,
     "metadata": {},
     "output_type": "execute_result"
    }
   ],
   "source": [
    "score3 = acc_score(data_pd,label_pd)\n",
    "score3"
   ]
  },
  {
   "cell_type": "code",
   "execution_count": 11,
   "id": "worth-arizona",
   "metadata": {
    "execution": {
     "iopub.execute_input": "2021-06-29T07:32:18.389209Z",
     "iopub.status.busy": "2021-06-29T07:32:18.388525Z",
     "iopub.status.idle": "2021-06-29T07:32:20.985988Z",
     "shell.execute_reply": "2021-06-29T07:32:20.986507Z"
    },
    "papermill": {
     "duration": 2.641116,
     "end_time": "2021-06-29T07:32:20.986718",
     "exception": false,
     "start_time": "2021-06-29T07:32:18.345602",
     "status": "completed"
    },
    "tags": []
   },
   "outputs": [
    {
     "name": "stdout",
     "output_type": "stream",
     "text": [
      "Best score in generation 1 : [0.9795918367346939]\n",
      "Best score in generation 2 : [0.9795918367346939]\n",
      "Best score in generation 3 : [0.9795918367346939]\n",
      "Best score in generation 4 : [0.9795918367346939]\n",
      "Best score in generation 5 : [0.9591836734693877]\n"
     ]
    }
   ],
   "source": [
    "logmodel = DecisionTreeClassifier(random_state=0)\n",
    "X_train,X_test, Y_train, Y_test = split(data_pd,label_pd)\n",
    "chromo_df_pd,score_pd=generations(data_pd,label_pd,size=80,n_feat=data_pd.shape[1],n_parents=64,mutation_rate=0.20,n_gen=5,\n",
    "                         X_train = X_train,X_test = X_test,Y_train = Y_train,Y_test = Y_test)"
   ]
  },
  {
   "cell_type": "markdown",
   "id": "primary-access",
   "metadata": {
    "papermill": {
     "duration": 0.032258,
     "end_time": "2021-06-29T07:32:21.051221",
     "exception": false,
     "start_time": "2021-06-29T07:32:21.018963",
     "status": "completed"
    },
    "tags": []
   },
   "source": [
    "#### We can see an improvement of 5-7%"
   ]
  },
  {
   "cell_type": "markdown",
   "id": "motivated-patent",
   "metadata": {
    "papermill": {
     "duration": 0.032382,
     "end_time": "2021-06-29T07:32:21.115627",
     "exception": false,
     "start_time": "2021-06-29T07:32:21.083245",
     "status": "completed"
    },
    "tags": []
   },
   "source": [
    "### 3. Visualization"
   ]
  },
  {
   "cell_type": "code",
   "execution_count": 12,
   "id": "selective-learning",
   "metadata": {
    "execution": {
     "iopub.execute_input": "2021-06-29T07:32:21.210454Z",
     "iopub.status.busy": "2021-06-29T07:32:21.187199Z",
     "iopub.status.idle": "2021-06-29T07:32:21.315152Z",
     "shell.execute_reply": "2021-06-29T07:32:21.314522Z"
    },
    "papermill": {
     "duration": 0.167197,
     "end_time": "2021-06-29T07:32:21.315305",
     "exception": false,
     "start_time": "2021-06-29T07:32:21.148108",
     "status": "completed"
    },
    "tags": []
   },
   "outputs": [
    {
     "data": {
      "image/png": "[encoded data removed]",
      "text/plain": [
       "<Figure size 600x400 with 1 Axes>"
      ]
     },
     "metadata": {},
     "output_type": "display_data"
    }
   ],
   "source": [
    "plot(score_pd,0.9,1.0,c = \"orange\")"
   ]
  },
  {
   "cell_type": "markdown",
   "id": "roman-sherman",
   "metadata": {
    "papermill": {
     "duration": 0.034168,
     "end_time": "2021-06-29T07:32:21.382349",
     "exception": false,
     "start_time": "2021-06-29T07:32:21.348181",
     "status": "completed"
    },
    "tags": []
   },
   "source": [
    "____\n",
    "# PCOS\n",
    "____"
   ]
  },
  {
   "cell_type": "markdown",
   "id": "framed-pitch",
   "metadata": {
    "papermill": {
     "duration": 0.033097,
     "end_time": "2021-06-29T07:32:21.449054",
     "exception": false,
     "start_time": "2021-06-29T07:32:21.415957",
     "status": "completed"
    },
    "tags": []
   },
   "source": [
    "### 1. Looking at dataset"
   ]
  },
  {
   "cell_type": "code",
   "execution_count": 13,
   "id": "trained-identity",
   "metadata": {
    "execution": {
     "iopub.execute_input": "2021-06-29T07:32:21.522595Z",
     "iopub.status.busy": "2021-06-29T07:32:21.521885Z",
     "iopub.status.idle": "2021-06-29T07:32:21.550373Z",
     "shell.execute_reply": "2021-06-29T07:32:21.549148Z"
    },
    "papermill": {
     "duration": 0.068074,
     "end_time": "2021-06-29T07:32:21.550570",
     "exception": false,
     "start_time": "2021-06-29T07:32:21.482496",
     "status": "completed"
    },
    "tags": []
   },
   "outputs": [
    {
     "name": "stdout",
     "output_type": "stream",
     "text": [
      "PCOS dataset:\n",
      " 541 Records\n",
      " 39 Features\n"
     ]
    }
   ],
   "source": [
    "data_pcos = pd.read_csv(\"input/PCOS_data.csv\")\n",
    "label_pcos = data_pcos[\"PCOS (Y/N)\"]\n",
    "data_pcos.drop([\"Sl. No\",\"Patient File No.\",\"PCOS (Y/N)\",\"Unnamed: 44\",\"II    beta-HCG(mIU/mL)\",\"AMH(ng/mL)\"],axis = 1,inplace = True)\n",
    "data_pcos[\"Marraige Status (Yrs)\"].fillna(data_pcos['Marraige Status (Yrs)'].describe().loc[['50%']][0], inplace = True) \n",
    "data_pcos[\"Fast food (Y/N)\"].fillna(1, inplace = True) \n",
    "\n",
    "print(\"PCOS dataset:\\n\",data_pcos.shape[0],\"Records\\n\",data_pcos.shape[1],\"Features\")"
   ]
  },
  {
   "cell_type": "code",
   "execution_count": 14,
   "id": "earlier-armor",
   "metadata": {
    "execution": {
     "iopub.execute_input": "2021-06-29T07:32:21.645832Z",
     "iopub.status.busy": "2021-06-29T07:32:21.642889Z",
     "iopub.status.idle": "2021-06-29T07:32:21.651883Z",
     "shell.execute_reply": "2021-06-29T07:32:21.651395Z"
    },
    "papermill": {
     "duration": 0.067394,
     "end_time": "2021-06-29T07:32:21.652022",
     "exception": false,
     "start_time": "2021-06-29T07:32:21.584628",
     "status": "completed"
    },
    "tags": []
   },
   "outputs": [
    {
     "data": {
      "text/html": [
       "<div>\n",
       "<style scoped>\n",
       "    .dataframe tbody tr th:only-of-type {\n",
       "        vertical-align: middle;\n",
       "    }\n",
       "\n",
       "    .dataframe tbody tr th {\n",
       "        vertical-align: top;\n",
       "    }\n",
       "\n",
       "    .dataframe thead th {\n",
       "        text-align: right;\n",
       "    }\n",
       "</style>\n",
       "<table border=\"1\" class=\"dataframe\">\n",
       "  <thead>\n",
       "    <tr style=\"text-align: right;\">\n",
       "      <th></th>\n",
       "      <th>Age (yrs)</th>\n",
       "      <th>Weight (Kg)</th>\n",
       "      <th>Height(Cm)</th>\n",
       "      <th>BMI</th>\n",
       "      <th>Blood Group</th>\n",
       "      <th>Pulse rate(bpm)</th>\n",
       "      <th>RR (breaths/min)</th>\n",
       "      <th>Hb(g/dl)</th>\n",
       "      <th>Cycle(R/I)</th>\n",
       "      <th>Cycle length(days)</th>\n",
       "      <th>...</th>\n",
       "      <th>Pimples(Y/N)</th>\n",
       "      <th>Fast food (Y/N)</th>\n",
       "      <th>Reg.Exercise(Y/N)</th>\n",
       "      <th>BP _Systolic (mmHg)</th>\n",
       "      <th>BP _Diastolic (mmHg)</th>\n",
       "      <th>Follicle No. (L)</th>\n",
       "      <th>Follicle No. (R)</th>\n",
       "      <th>Avg. F size (L) (mm)</th>\n",
       "      <th>Avg. F size (R) (mm)</th>\n",
       "      <th>Endometrium (mm)</th>\n",
       "    </tr>\n",
       "  </thead>\n",
       "  <tbody>\n",
       "    <tr>\n",
       "      <th>0</th>\n",
       "      <td>28</td>\n",
       "      <td>44.6</td>\n",
       "      <td>152.0</td>\n",
       "      <td>19.3</td>\n",
       "      <td>15</td>\n",
       "      <td>78</td>\n",
       "      <td>22</td>\n",
       "      <td>10.48</td>\n",
       "      <td>2</td>\n",
       "      <td>5</td>\n",
       "      <td>...</td>\n",
       "      <td>0</td>\n",
       "      <td>1.0</td>\n",
       "      <td>0</td>\n",
       "      <td>110</td>\n",
       "      <td>80</td>\n",
       "      <td>3</td>\n",
       "      <td>3</td>\n",
       "      <td>18.0</td>\n",
       "      <td>18.0</td>\n",
       "      <td>8.5</td>\n",
       "    </tr>\n",
       "    <tr>\n",
       "      <th>1</th>\n",
       "      <td>36</td>\n",
       "      <td>65.0</td>\n",
       "      <td>161.5</td>\n",
       "      <td>24.9</td>\n",
       "      <td>15</td>\n",
       "      <td>74</td>\n",
       "      <td>20</td>\n",
       "      <td>11.70</td>\n",
       "      <td>2</td>\n",
       "      <td>5</td>\n",
       "      <td>...</td>\n",
       "      <td>0</td>\n",
       "      <td>0.0</td>\n",
       "      <td>0</td>\n",
       "      <td>120</td>\n",
       "      <td>70</td>\n",
       "      <td>3</td>\n",
       "      <td>5</td>\n",
       "      <td>15.0</td>\n",
       "      <td>14.0</td>\n",
       "      <td>3.7</td>\n",
       "    </tr>\n",
       "    <tr>\n",
       "      <th>2</th>\n",
       "      <td>33</td>\n",
       "      <td>68.8</td>\n",
       "      <td>165.0</td>\n",
       "      <td>25.3</td>\n",
       "      <td>11</td>\n",
       "      <td>72</td>\n",
       "      <td>18</td>\n",
       "      <td>11.80</td>\n",
       "      <td>2</td>\n",
       "      <td>5</td>\n",
       "      <td>...</td>\n",
       "      <td>1</td>\n",
       "      <td>1.0</td>\n",
       "      <td>0</td>\n",
       "      <td>120</td>\n",
       "      <td>80</td>\n",
       "      <td>13</td>\n",
       "      <td>15</td>\n",
       "      <td>18.0</td>\n",
       "      <td>20.0</td>\n",
       "      <td>10.0</td>\n",
       "    </tr>\n",
       "    <tr>\n",
       "      <th>3</th>\n",
       "      <td>37</td>\n",
       "      <td>65.0</td>\n",
       "      <td>148.0</td>\n",
       "      <td>29.7</td>\n",
       "      <td>13</td>\n",
       "      <td>72</td>\n",
       "      <td>20</td>\n",
       "      <td>12.00</td>\n",
       "      <td>2</td>\n",
       "      <td>5</td>\n",
       "      <td>...</td>\n",
       "      <td>0</td>\n",
       "      <td>0.0</td>\n",
       "      <td>0</td>\n",
       "      <td>120</td>\n",
       "      <td>70</td>\n",
       "      <td>2</td>\n",
       "      <td>2</td>\n",
       "      <td>15.0</td>\n",
       "      <td>14.0</td>\n",
       "      <td>7.5</td>\n",
       "    </tr>\n",
       "    <tr>\n",
       "      <th>4</th>\n",
       "      <td>25</td>\n",
       "      <td>52.0</td>\n",
       "      <td>161.0</td>\n",
       "      <td>20.1</td>\n",
       "      <td>11</td>\n",
       "      <td>72</td>\n",
       "      <td>18</td>\n",
       "      <td>10.00</td>\n",
       "      <td>2</td>\n",
       "      <td>5</td>\n",
       "      <td>...</td>\n",
       "      <td>0</td>\n",
       "      <td>0.0</td>\n",
       "      <td>0</td>\n",
       "      <td>120</td>\n",
       "      <td>80</td>\n",
       "      <td>3</td>\n",
       "      <td>4</td>\n",
       "      <td>16.0</td>\n",
       "      <td>14.0</td>\n",
       "      <td>7.0</td>\n",
       "    </tr>\n",
       "  </tbody>\n",
       "</table>\n",
       "<p>5 rows × 39 columns</p>\n",
       "</div>"
      ],
      "text/plain": [
       "    Age (yrs)  Weight (Kg)  Height(Cm)    BMI  Blood Group  Pulse rate(bpm)   \\\n",
       "0          28         44.6        152.0  19.3           15                78   \n",
       "1          36         65.0        161.5  24.9           15                74   \n",
       "2          33         68.8        165.0  25.3           11                72   \n",
       "3          37         65.0        148.0  29.7           13                72   \n",
       "4          25         52.0        161.0  20.1           11                72   \n",
       "\n",
       "   RR (breaths/min)  Hb(g/dl)  Cycle(R/I)  Cycle length(days)  ...  \\\n",
       "0                22     10.48           2                   5  ...   \n",
       "1                20     11.70           2                   5  ...   \n",
       "2                18     11.80           2                   5  ...   \n",
       "3                20     12.00           2                   5  ...   \n",
       "4                18     10.00           2                   5  ...   \n",
       "\n",
       "   Pimples(Y/N)  Fast food (Y/N)  Reg.Exercise(Y/N)  BP _Systolic (mmHg)  \\\n",
       "0             0              1.0                  0                  110   \n",
       "1             0              0.0                  0                  120   \n",
       "2             1              1.0                  0                  120   \n",
       "3             0              0.0                  0                  120   \n",
       "4             0              0.0                  0                  120   \n",
       "\n",
       "   BP _Diastolic (mmHg)  Follicle No. (L)  Follicle No. (R)  \\\n",
       "0                    80                 3                 3   \n",
       "1                    70                 3                 5   \n",
       "2                    80                13                15   \n",
       "3                    70                 2                 2   \n",
       "4                    80                 3                 4   \n",
       "\n",
       "   Avg. F size (L) (mm)  Avg. F size (R) (mm)  Endometrium (mm)  \n",
       "0                  18.0                  18.0               8.5  \n",
       "1                  15.0                  14.0               3.7  \n",
       "2                  18.0                  20.0              10.0  \n",
       "3                  15.0                  14.0               7.5  \n",
       "4                  16.0                  14.0               7.0  \n",
       "\n",
       "[5 rows x 39 columns]"
      ]
     },
     "metadata": {},
     "output_type": "display_data"
    },
    {
     "name": "stdout",
     "output_type": "stream",
     "text": [
      "The features in this dataset have both discrete and continuous values\n"
     ]
    }
   ],
   "source": [
    "display(data_pcos.head())\n",
    "print(\"The features in this dataset have both discrete and continuous values\")"
   ]
  },
  {
   "cell_type": "markdown",
   "id": "numerical-polymer",
   "metadata": {
    "papermill": {
     "duration": 0.036591,
     "end_time": "2021-06-29T07:32:21.723666",
     "exception": false,
     "start_time": "2021-06-29T07:32:21.687075",
     "status": "completed"
    },
    "tags": []
   },
   "source": [
    "### 2. Checking Accuracy"
   ]
  },
  {
   "cell_type": "code",
   "execution_count": 15,
   "id": "expensive-vietnamese",
   "metadata": {
    "execution": {
     "iopub.execute_input": "2021-06-29T07:32:21.803466Z",
     "iopub.status.busy": "2021-06-29T07:32:21.799803Z",
     "iopub.status.idle": "2021-06-29T07:33:23.847023Z",
     "shell.execute_reply": "2021-06-29T07:33:23.847568Z"
    },
    "papermill": {
     "duration": 62.088753,
     "end_time": "2021-06-29T07:33:23.847739",
     "exception": false,
     "start_time": "2021-06-29T07:32:21.758986",
     "status": "completed"
    },
    "tags": []
   },
   "outputs": [
    {
     "data": {
      "text/html": [
       "<div>\n",
       "<style scoped>\n",
       "    .dataframe tbody tr th:only-of-type {\n",
       "        vertical-align: middle;\n",
       "    }\n",
       "\n",
       "    .dataframe tbody tr th {\n",
       "        vertical-align: top;\n",
       "    }\n",
       "\n",
       "    .dataframe thead th {\n",
       "        text-align: right;\n",
       "    }\n",
       "</style>\n",
       "<table border=\"1\" class=\"dataframe\">\n",
       "  <thead>\n",
       "    <tr style=\"text-align: right;\">\n",
       "      <th></th>\n",
       "      <th>Classifier</th>\n",
       "      <th>Accuracy</th>\n",
       "    </tr>\n",
       "  </thead>\n",
       "  <tbody>\n",
       "    <tr>\n",
       "      <th>0</th>\n",
       "      <td>RandomForest</td>\n",
       "      <td>0.889706</td>\n",
       "    </tr>\n",
       "    <tr>\n",
       "      <th>1</th>\n",
       "      <td>AdaBoost</td>\n",
       "      <td>0.860294</td>\n",
       "    </tr>\n",
       "    <tr>\n",
       "      <th>2</th>\n",
       "      <td>GradientBoosting</td>\n",
       "      <td>0.860294</td>\n",
       "    </tr>\n",
       "    <tr>\n",
       "      <th>3</th>\n",
       "      <td>LinearSVM</td>\n",
       "      <td>0.852941</td>\n",
       "    </tr>\n",
       "    <tr>\n",
       "      <th>4</th>\n",
       "      <td>Logistic</td>\n",
       "      <td>0.838235</td>\n",
       "    </tr>\n",
       "    <tr>\n",
       "      <th>5</th>\n",
       "      <td>DecisionTree</td>\n",
       "      <td>0.838235</td>\n",
       "    </tr>\n",
       "    <tr>\n",
       "      <th>6</th>\n",
       "      <td>RadialSVM</td>\n",
       "      <td>0.698529</td>\n",
       "    </tr>\n",
       "    <tr>\n",
       "      <th>7</th>\n",
       "      <td>KNeighbors</td>\n",
       "      <td>0.676471</td>\n",
       "    </tr>\n",
       "  </tbody>\n",
       "</table>\n",
       "</div>"
      ],
      "text/plain": [
       "         Classifier  Accuracy\n",
       "0      RandomForest  0.889706\n",
       "1          AdaBoost  0.860294\n",
       "2  GradientBoosting  0.860294\n",
       "3         LinearSVM  0.852941\n",
       "4          Logistic  0.838235\n",
       "5      DecisionTree  0.838235\n",
       "6         RadialSVM  0.698529\n",
       "7        KNeighbors  0.676471"
      ]
     },
     "execution_count": 15,
     "metadata": {},
     "output_type": "execute_result"
    }
   ],
   "source": [
    "score4 = acc_score(data_pcos,label_pcos)\n",
    "score4"
   ]
  },
  {
   "cell_type": "code",
   "execution_count": 16,
   "id": "naked-mattress",
   "metadata": {
    "execution": {
     "iopub.execute_input": "2021-06-29T07:33:23.931688Z",
     "iopub.status.busy": "2021-06-29T07:33:23.930665Z",
     "iopub.status.idle": "2021-06-29T07:36:59.960513Z",
     "shell.execute_reply": "2021-06-29T07:36:59.961305Z"
    },
    "papermill": {
     "duration": 216.07827,
     "end_time": "2021-06-29T07:36:59.961546",
     "exception": false,
     "start_time": "2021-06-29T07:33:23.883276",
     "status": "completed"
    },
    "tags": []
   },
   "outputs": [
    {
     "name": "stdout",
     "output_type": "stream",
     "text": [
      "Best score in generation 1 : [0.9117647058823529]\n",
      "Best score in generation 2 : [0.9191176470588235]\n",
      "Best score in generation 3 : [0.9117647058823529]\n",
      "Best score in generation 4 : [0.9044117647058824]\n",
      "Best score in generation 5 : [0.9117647058823529]\n"
     ]
    }
   ],
   "source": [
    "logmodel = RandomForestClassifier(n_estimators=200, random_state=0)\n",
    "X_train,X_test, Y_train, Y_test = split(data_pcos,label_pcos)\n",
    "chromo_df_pcos,score_pcos=generations(data_pcos,label_pcos,size=80,n_feat=data_pcos.shape[1],n_parents=64,mutation_rate=0.20,n_gen=5,\n",
    "                         X_train = X_train,X_test = X_test,Y_train = Y_train,Y_test = Y_test)"
   ]
  },
  {
   "cell_type": "markdown",
   "id": "talented-custody",
   "metadata": {
    "papermill": {
     "duration": 0.037381,
     "end_time": "2021-06-29T07:37:00.036905",
     "exception": false,
     "start_time": "2021-06-29T07:36:59.999524",
     "status": "completed"
    },
    "tags": []
   },
   "source": [
    "#### We can see an improvement of 3-4%"
   ]
  },
  {
   "cell_type": "markdown",
   "id": "fourth-childhood",
   "metadata": {
    "papermill": {
     "duration": 0.036794,
     "end_time": "2021-06-29T07:37:00.110708",
     "exception": false,
     "start_time": "2021-06-29T07:37:00.073914",
     "status": "completed"
    },
    "tags": []
   },
   "source": [
    "### 3. Visualization"
   ]
  },
  {
   "cell_type": "code",
   "execution_count": 17,
   "id": "conventional-feelings",
   "metadata": {
    "execution": {
     "iopub.execute_input": "2021-06-29T07:37:00.190106Z",
     "iopub.status.busy": "2021-06-29T07:37:00.189093Z",
     "iopub.status.idle": "2021-06-29T07:37:00.327670Z",
     "shell.execute_reply": "2021-06-29T07:37:00.328193Z"
    },
    "papermill": {
     "duration": 0.179746,
     "end_time": "2021-06-29T07:37:00.328385",
     "exception": false,
     "start_time": "2021-06-29T07:37:00.148639",
     "status": "completed"
    },
    "tags": []
   },
   "outputs": [
    {
     "data": {
      "image/png": "[encoded data removed]",
      "text/plain": [
       "<Figure size 600x400 with 1 Axes>"
      ]
     },
     "metadata": {},
     "output_type": "display_data"
    }
   ],
   "source": [
    "plot(score_pcos,0.9,1.0,c = \"limegreen\")"
   ]
  }
 ],
 "metadata": {
  "kernelspec": {
   "display_name": "Python 3.10.4 64-bit",
   "language": "python",
   "name": "python3"
  },
  "language_info": {
   "codemirror_mode": {
    "name": "ipython",
    "version": 3
   },
   "file_extension": ".py",
   "mimetype": "text/x-python",
   "name": "python",
   "nbconvert_exporter": "python",
   "pygments_lexer": "ipython3",
   "version": "3.10.4"
  },
  "papermill": {
   "default_parameters": {},
   "duration": 524.810554,
   "end_time": "2021-06-29T07:37:01.230560",
   "environment_variables": {},
   "exception": null,
   "input_path": "__notebook__.ipynb",
   "output_path": "__notebook__.ipynb",
   "parameters": {},
   "start_time": "2021-06-29T07:28:16.420006",
   "version": "2.3.3"
  },
  "vscode": {
   "interpreter": {
    "hash": "369f2c481f4da34e4445cda3fffd2e751bd1c4d706f27375911949ba6bb62e1c"
   }
  }
 },
 "nbformat": 4,
 "nbformat_minor": 5
}
